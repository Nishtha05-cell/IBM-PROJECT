{
  "nbformat": 4,
  "nbformat_minor": 0,
  "metadata": {
    "colab": {
      "provenance": [],
      "authorship_tag": "ABX9TyPuhUj1rCm05trqXRJJM31Q",
      "include_colab_link": true
    },
    "kernelspec": {
      "name": "python3",
      "display_name": "Python 3"
    },
    "language_info": {
      "name": "python"
    }
  },
  "cells": [
    {
      "cell_type": "markdown",
      "metadata": {
        "id": "view-in-github",
        "colab_type": "text"
      },
      "source": [
        "<a href=\"https://colab.research.google.com/github/Nishtha05-cell/IBM-PROJECT/blob/main/Untitled2.ipynb\" target=\"_parent\"><img src=\"https://colab.research.google.com/assets/colab-badge.svg\" alt=\"Open In Colab\"/></a>"
      ]
    },
    {
      "cell_type": "code",
      "execution_count": null,
      "metadata": {
        "colab": {
          "base_uri": "https://localhost:8080/"
        },
        "id": "-9HgGnDGSGRl",
        "outputId": "48764b66-5146-4ee5-c9a4-d5de40b31c21"
      },
      "outputs": [
        {
          "output_type": "stream",
          "name": "stdout",
          "text": [
            "Predicted Salary (Test Data): [52550.29881574 52550.29881574]\n",
            "Actual Salary   : [30000, 40000]\n",
            "Mean Squared Error: 333012988.52167684\n",
            "\n",
            "--- Predict Salary for New Candidate ---\n"
          ]
        }
      ],
      "source": [
        "# Importing necessary libraries\n",
        "from sklearn.ensemble import RandomForestRegressor, GradientBoostingRegressor, VotingRegressor\n",
        "from sklearn.model_selection import train_test_split\n",
        "from sklearn.metrics import mean_squared_error\n",
        "import pandas as pd\n",
        "\n",
        "# Sample salary dataset with added 'Marks' feature\n",
        "data = {\n",
        "    'Experience': [1, 3, 5, 7, 9, 11],\n",
        "    'Age': [22, 25, 28, 30, 35, 40],\n",
        "    'Education_Level': [1, 2, 2, 3, 3, 4],  # 1 = High School, 4 = PhD\n",
        "    'Marks': [60, 65, 70, 75, 80, 90],      # New feature: Marks scored\n",
        "    'Salary': [30000, 40000, 50000, 60000, 80000, 100000]\n",
        "}\n",
        "\n",
        "# Create a DataFrame\n",
        "df = pd.DataFrame(data)\n",
        "\n",
        "# Separate input (X) and output (y)\n",
        "X = df[['Experience', 'Age', 'Education_Level', 'Marks']]\n",
        "y = df['Salary']\n",
        "\n",
        "# Split the data for training and testing\n",
        "X_train, X_test, y_train, y_test = train_test_split(X, y, test_size=0.2, random_state=42)\n",
        "\n",
        "# Create two regression models\n",
        "rf = RandomForestRegressor(n_estimators=100, random_state=1)\n",
        "gb = GradientBoostingRegressor(n_estimators=100, random_state=1)\n",
        "\n",
        "# Combine using Voting Regressor\n",
        "ensemble = VotingRegressor(estimators=[('rf', rf), ('gb', gb)])\n",
        "\n",
        "# Train the model\n",
        "ensemble.fit(X_train, y_train)\n",
        "\n",
        "# Predict on test data\n",
        "predicted_salary = ensemble.predict(X_test)\n",
        "print(\"Predicted Salary (Test Data):\", predicted_salary)\n",
        "print(\"Actual Salary   :\", list(y_test))\n",
        "print(\"Mean Squared Error:\", mean_squared_error(y_test, predicted_salary))\n",
        "\n",
        "\n",
        "\n",
        "# Get input from user\n",
        "print(\"\\n--- Predict Salary for New Candidate ---\")\n",
        "exp = int(input(\"Enter experience (in years): \"))\n",
        "age = int(input(\"Enter age: \"))\n",
        "edu = int(input(\"Enter education level (1-HighSchool, 2-Graduate, 3-Postgraduate, 4-PhD): \"))\n",
        "marks = int(input(\"Enter marks scored (%): \"))\n",
        "\n",
        "# Create input data for prediction\n",
        "new_input = pd.DataFrame([[exp, age, edu, marks]], columns=['Experience', 'Age', 'Education_Level', 'Marks'])\n",
        "\n",
        "# Predict salary\n",
        "predicted_new_salary = ensemble.predict(new_input)\n",
        "print(\"Predicted Salary for the candidate: ₹\", int(predicted_new_salary[0]))\n"
      ]
    }
  ]
}